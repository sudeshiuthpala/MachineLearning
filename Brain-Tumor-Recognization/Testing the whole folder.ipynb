{
 "cells": [
  {
   "cell_type": "code",
   "execution_count": null,
   "metadata": {},
   "outputs": [],
   "source": [
    "#testing whole folder"
   ]
  },
  {
   "cell_type": "code",
   "execution_count": 3,
   "metadata": {},
   "outputs": [],
   "source": [
    "import joblib\n",
    "from matplotlib import pyplot as plt\n",
    "\n",
    "model=joblib.load('brain_tumor_kmeans.sav')\n",
    "tumorLabel=4"
   ]
  },
  {
   "cell_type": "code",
   "execution_count": 4,
   "metadata": {},
   "outputs": [
    {
     "name": "stdout",
     "output_type": "stream",
     "text": [
      "img_shape: (512, 512)\n",
      "imgFlatten.shape: (262144, 1)\n",
      "no. contours: 104\n",
      "img_shape: (512, 512)\n",
      "imgFlatten.shape: (262144, 1)\n",
      "no. contours: 155\n",
      "img_shape: (512, 512)\n",
      "imgFlatten.shape: (262144, 1)\n",
      "no. contours: 133\n",
      "img_shape: (512, 512)\n",
      "imgFlatten.shape: (262144, 1)\n",
      "no. contours: 137\n",
      "img_shape: (512, 512)\n",
      "imgFlatten.shape: (262144, 1)\n",
      "no. contours: 141\n",
      "img_shape: (512, 512)\n",
      "imgFlatten.shape: (262144, 1)\n",
      "no. contours: 129\n",
      "img_shape: (512, 512)\n",
      "imgFlatten.shape: (262144, 1)\n",
      "no. contours: 120\n",
      "img_shape: (512, 512)\n",
      "imgFlatten.shape: (262144, 1)\n",
      "no. contours: 125\n",
      "img_shape: (512, 512)\n",
      "imgFlatten.shape: (262144, 1)\n",
      "no. contours: 126\n",
      "img_shape: (512, 512)\n",
      "imgFlatten.shape: (262144, 1)\n",
      "no. contours: 88\n",
      "img_shape: (512, 512)\n",
      "imgFlatten.shape: (262144, 1)\n",
      "no. contours: 85\n",
      "img_shape: (512, 512)\n",
      "imgFlatten.shape: (262144, 1)\n",
      "no. contours: 29\n",
      "img_shape: (512, 512)\n",
      "imgFlatten.shape: (262144, 1)\n",
      "no. contours: 67\n"
     ]
    }
   ],
   "source": [
    "import cv2\n",
    "import os\n",
    "import numpy as np\n",
    "\n",
    "image_names=os.listdir('test_images')\n",
    "\n",
    "for img_name in image_names:\n",
    "    \n",
    "    img_path=os.path.join('test_images',img_name)\n",
    "\n",
    "    imgOriginal=cv2.imread(img_path)\n",
    "    img=cv2.imread(img_path,0)\n",
    "    height,width=img.shape\n",
    "    print('img_shape:',img.shape)\n",
    "    imgFlatten=img.reshape(height*width,1)\n",
    "    print('imgFlatten.shape:',imgFlatten.shape)\n",
    "\n",
    "    labels=model.predict(imgFlatten)\n",
    "    labels2D=labels.reshape(height,width)\n",
    "\n",
    "    mask=(labels2D==tumorLabel)\n",
    "\n",
    "    tumorExtracted=np.array((mask*255),dtype=np.uint8) #converting the binary array into a opencv supported image\n",
    "\n",
    "    kernel = np.ones((5,5), np.uint8) \n",
    "    tumorExtracted = cv2.erode(tumorExtracted, kernel, iterations=1) \n",
    "\n",
    "    contours, hierarchy = cv2.findContours(tumorExtracted, cv2.RETR_TREE,cv2.CHAIN_APPROX_SIMPLE)\n",
    "    print('no. contours:',len(contours))\n",
    "    #cv2.drawContours(imgOriginal, contours, -1, (0,255,255), 3)\n",
    "\n",
    "    for cnt in contours:\n",
    "\n",
    "        area=cv2.contourArea(cnt)\n",
    "        if(area>1000):\n",
    "            cv2.drawContours(imgOriginal, [cnt], -1, (0,255,255), 3)\n",
    "            x,y,w,h = cv2.boundingRect(cnt)\n",
    "            cv2.rectangle(imgOriginal,(x,y),(x+w,y+h),(0,255,0),2)\n",
    "            cv2.rectangle(imgOriginal,(x,y),(x+120,y-40),(0,255,0),-1)\n",
    "            cv2.putText(imgOriginal,\"TUMOR\",(x+10,y-10),cv2.FONT_HERSHEY_SIMPLEX,1,(255,255,255),2)\n",
    "\n",
    "    cv2.imshow('LIVE',imgOriginal)\n",
    "    cv2.waitKey(0)\n",
    "    cv2.destroyAllWindows()"
   ]
  },
  {
   "cell_type": "code",
   "execution_count": null,
   "metadata": {},
   "outputs": [],
   "source": []
  }
 ],
 "metadata": {
  "kernelspec": {
   "display_name": "Python 3",
   "language": "python",
   "name": "python3"
  },
  "language_info": {
   "codemirror_mode": {
    "name": "ipython",
    "version": 3
   },
   "file_extension": ".py",
   "mimetype": "text/x-python",
   "name": "python",
   "nbconvert_exporter": "python",
   "pygments_lexer": "ipython3",
   "version": "3.8.5"
  }
 },
 "nbformat": 4,
 "nbformat_minor": 2
}
