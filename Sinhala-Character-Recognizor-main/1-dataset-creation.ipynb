{
 "cells": [
  {
   "cell_type": "code",
   "execution_count": null,
   "metadata": {},
   "outputs": [],
   "source": [
    "#create dataset"
   ]
  },
  {
   "cell_type": "code",
   "execution_count": 22,
   "metadata": {},
   "outputs": [
    {
     "name": "stdout",
     "output_type": "stream",
     "text": [
      "['a', 'ae', 'e', 'u']\n",
      "[0, 1, 2, 3]\n",
      "{'a': 0, 'ae': 1, 'e': 2, 'u': 3}\n"
     ]
    }
   ],
   "source": [
    "import os\n",
    "import numpy as np\n",
    "\n",
    "data_path='dataset'\n",
    "\n",
    "categories=os.listdir(data_path)#os.listdir(r\"directorypath\")\n",
    "print(categories)#get folder list in directory of dataset\n",
    "labels=[i for i in range(len(categories))]\n",
    "print(labels)\n",
    "category_dict={'a':0,'ae':1,'e':2,'u':3}\n",
    "print(category_dict)"
   ]
  },
  {
   "cell_type": "code",
   "execution_count": 23,
   "metadata": {},
   "outputs": [],
   "source": [
    "import cv2\n",
    "\n",
    "data=[]\n",
    "target=[]\n",
    "\n",
    "for category in categories:\n",
    "    imgs_path=os.path.join(data_path,category)#datapath ekai catogery join karanawa\n",
    "    #print(imgs_path)\n",
    "    img_names=os.listdir(imgs_path)\n",
    "   # print(imgs_path,img_names)\n",
    "    #print(category,'---------------------')\n",
    "    for img_name in img_names:\n",
    "        img_path=os.path.join(imgs_path,img_name)#join images with folders\n",
    "        #print(img_path)\n",
    "        img=cv2.imread(img_path,0)\n",
    "        img=cv2.resize(img,(8,8))#image eka ekama size ekata converts karanawa\n",
    "        data.append(img)#image can append to list\n",
    "        target.append(category_dict[category])\n",
    "        #print(target)\n",
    "        #cv2.imshow('LIVE',img)#one by one image show karanawa\n",
    "        #k=cv2.waitKey(100)\n",
    "        #if(k==27):\n",
    "            #break\n",
    "#cv2.destroyAllWindows()"
   ]
  },
  {
   "cell_type": "code",
   "execution_count": 24,
   "metadata": {},
   "outputs": [
    {
     "name": "stdout",
     "output_type": "stream",
     "text": [
      "270 270\n"
     ]
    }
   ],
   "source": [
    "print(len(data),len(target))"
   ]
  },
  {
   "cell_type": "code",
   "execution_count": 25,
   "metadata": {},
   "outputs": [
    {
     "data": {
      "text/plain": [
       "<matplotlib.image.AxesImage at 0x186a92a21c0>"
      ]
     },
     "execution_count": 25,
     "metadata": {},
     "output_type": "execute_result"
    },
    {
     "data": {
      "image/png": "[encoded data removed]",
      "text/plain": [
       "<Figure size 432x288 with 1 Axes>"
      ]
     },
     "metadata": {
      "needs_background": "light"
     },
     "output_type": "display_data"
    }
   ],
   "source": [
    "from matplotlib import pyplot as plt\n",
    "\n",
    "plt.imshow(data[10],cmap='gray')#show one data"
   ]
  },
  {
   "cell_type": "code",
   "execution_count": 26,
   "metadata": {},
   "outputs": [
    {
     "data": {
      "text/plain": [
       "array([[255, 255, 255, 255, 255, 255, 255, 255],\n",
       "       [255, 255, 255, 255, 255, 255, 255, 255],\n",
       "       [  0,   0, 255, 255,   6, 255,   0, 255],\n",
       "       [255, 255, 255,   0,   0,   0,   0, 255],\n",
       "       [255, 255,  95, 255, 255,   0, 255,  46],\n",
       "       [255, 255, 255, 255, 255,   0, 255, 255],\n",
       "       [255, 255, 255, 255, 255,   0, 255, 255],\n",
       "       [255, 255, 255, 255, 255, 255, 255, 255]], dtype=uint8)"
      ]
     },
     "execution_count": 26,
     "metadata": {},
     "output_type": "execute_result"
    }
   ],
   "source": [
    "data[10]#data10 eka"
   ]
  },
  {
   "cell_type": "code",
   "execution_count": 27,
   "metadata": {},
   "outputs": [
    {
     "data": {
      "text/plain": [
       "0"
      ]
     },
     "execution_count": 27,
     "metadata": {},
     "output_type": "execute_result"
    }
   ],
   "source": [
    "target[10]#digit eka mokkda"
   ]
  },
  {
   "cell_type": "code",
   "execution_count": 28,
   "metadata": {},
   "outputs": [
    {
     "name": "stdout",
     "output_type": "stream",
     "text": [
      "before resize: (270, 8, 8)\n"
     ]
    }
   ],
   "source": [
    "data=np.array(data)\n",
    "print('before resize:',data.shape)#8x8 eke ewa 270"
   ]
  },
  {
   "cell_type": "code",
   "execution_count": 29,
   "metadata": {},
   "outputs": [
    {
     "name": "stdout",
     "output_type": "stream",
     "text": [
      "before resize: (270,)\n"
     ]
    }
   ],
   "source": [
    "target=np.array(target)\n",
    "print('before resize:',target.shape)"
   ]
  },
  {
   "cell_type": "code",
   "execution_count": 30,
   "metadata": {},
   "outputs": [
    {
     "name": "stdout",
     "output_type": "stream",
     "text": [
      "before resize: (270, 8, 8)\n",
      "after resize: (270, 64)\n"
     ]
    }
   ],
   "source": [
    "data=np.array(data)\n",
    "print('before resize:',data.shape)\n",
    "data=data.reshape(data.shape[0],data.shape[1]*data.shape[2])#meka 1d karanna ona can't use 2d in ML\n",
    "#data=data.reshape(270,8*8)\n",
    "print('after resize:',data.shape)\n",
    "target=np.array(target)\n",
    "\n",
    "np.save('data',data)#data.npy\n",
    "np.save('target',target)#target.npy"
   ]
  },
  {
   "cell_type": "code",
   "execution_count": 31,
   "metadata": {},
   "outputs": [
    {
     "name": "stdout",
     "output_type": "stream",
     "text": [
      "(270,)\n"
     ]
    }
   ],
   "source": [
    "print(target.shape)"
   ]
  },
  {
   "cell_type": "code",
   "execution_count": 32,
   "metadata": {},
   "outputs": [
    {
     "name": "stdout",
     "output_type": "stream",
     "text": [
      "[0 0 0 0 0 0 0 0 0 0 0 0 0 0 0 0 0 0 0 0 0 0 0 0 0 0 0 0 0 0 0 0 0 0 0 0 0\n",
      " 0 0 0 0 0 0 0 0 0 0 0 0 0 0 0 0 0 0 0 0 0 0 0 0 0 0 0 0 0 0 0 0 0 0 1 1 1\n",
      " 1 1 1 1 1 1 1 1 1 1 1 1 1 1 1 1 1 1 1 1 1 1 1 1 1 1 1 1 1 1 1 1 1 1 1 1 1\n",
      " 1 1 1 1 1 1 1 1 1 1 1 1 1 1 1 1 1 1 1 1 1 1 1 1 2 2 2 2 2 2 2 2 2 2 2 2 2\n",
      " 2 2 2 2 2 2 2 2 2 2 2 2 2 2 2 2 2 2 2 2 2 2 2 2 2 2 2 2 2 2 2 2 2 2 2 2 2\n",
      " 2 2 2 2 2 2 2 2 2 2 2 2 2 2 2 2 2 2 2 2 2 3 3 3 3 3 3 3 3 3 3 3 3 3 3 3 3\n",
      " 3 3 3 3 3 3 3 3 3 3 3 3 3 3 3 3 3 3 3 3 3 3 3 3 3 3 3 3 3 3 3 3 3 3 3 3 3\n",
      " 3 3 3 3 3 3 3 3 3 3 3]\n"
     ]
    }
   ],
   "source": [
    "print(target)"
   ]
  },
  {
   "cell_type": "code",
   "execution_count": null,
   "metadata": {},
   "outputs": [],
   "source": []
  },
  {
   "cell_type": "code",
   "execution_count": null,
   "metadata": {},
   "outputs": [],
   "source": []
  }
 ],
 "metadata": {
  "kernelspec": {
   "display_name": "Python 3",
   "language": "python",
   "name": "python3"
  },
  "language_info": {
   "codemirror_mode": {
    "name": "ipython",
    "version": 3
   },
   "file_extension": ".py",
   "mimetype": "text/x-python",
   "name": "python",
   "nbconvert_exporter": "python",
   "pygments_lexer": "ipython3",
   "version": "3.8.5"
  }
 },
 "nbformat": 4,
 "nbformat_minor": 2
}
